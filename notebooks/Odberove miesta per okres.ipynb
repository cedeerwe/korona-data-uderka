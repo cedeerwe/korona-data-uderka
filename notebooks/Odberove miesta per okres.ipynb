{
 "cells": [
  {
   "cell_type": "code",
   "execution_count": 1,
   "metadata": {},
   "outputs": [],
   "source": [
    "import pandas as pd\n",
    "import json"
   ]
  },
  {
   "cell_type": "code",
   "execution_count": 11,
   "metadata": {},
   "outputs": [],
   "source": [
    "skoly = pd.read_csv(\"schools_with_villages.csv\")[[\"village\", \"school\", \"num_students\"]]"
   ]
  },
  {
   "cell_type": "code",
   "execution_count": 12,
   "metadata": {},
   "outputs": [
    {
     "data": {
      "text/html": [
       "<div>\n",
       "<style scoped>\n",
       "    .dataframe tbody tr th:only-of-type {\n",
       "        vertical-align: middle;\n",
       "    }\n",
       "\n",
       "    .dataframe tbody tr th {\n",
       "        vertical-align: top;\n",
       "    }\n",
       "\n",
       "    .dataframe thead th {\n",
       "        text-align: right;\n",
       "    }\n",
       "</style>\n",
       "<table border=\"1\" class=\"dataframe\">\n",
       "  <thead>\n",
       "    <tr style=\"text-align: right;\">\n",
       "      <th></th>\n",
       "      <th>village</th>\n",
       "      <th>school</th>\n",
       "      <th>num_students</th>\n",
       "    </tr>\n",
       "  </thead>\n",
       "  <tbody>\n",
       "    <tr>\n",
       "      <th>0</th>\n",
       "      <td>Abovce</td>\n",
       "      <td>ZŠ s MŠ - Abovce</td>\n",
       "      <td>34.0</td>\n",
       "    </tr>\n",
       "    <tr>\n",
       "      <th>1</th>\n",
       "      <td>Abovce</td>\n",
       "      <td>Materská škola pri ZŠ - Abovce</td>\n",
       "      <td>14.0</td>\n",
       "    </tr>\n",
       "    <tr>\n",
       "      <th>2</th>\n",
       "      <td>Abrahám</td>\n",
       "      <td>Materská škola - Abrahám, Hviezdoslavova</td>\n",
       "      <td>39.0</td>\n",
       "    </tr>\n",
       "    <tr>\n",
       "      <th>3</th>\n",
       "      <td>Abrahám</td>\n",
       "      <td>ZŠ - Abrahám, Školská</td>\n",
       "      <td>130.0</td>\n",
       "    </tr>\n",
       "    <tr>\n",
       "      <th>4</th>\n",
       "      <td>Abrahámovce</td>\n",
       "      <td>Materská škola - Abrahámovce</td>\n",
       "      <td>10.0</td>\n",
       "    </tr>\n",
       "    <tr>\n",
       "      <th>...</th>\n",
       "      <td>...</td>\n",
       "      <td>...</td>\n",
       "      <td>...</td>\n",
       "    </tr>\n",
       "    <tr>\n",
       "      <th>6566</th>\n",
       "      <td>Žlkovce</td>\n",
       "      <td>ZŠ - Žlkovce</td>\n",
       "      <td>29.0</td>\n",
       "    </tr>\n",
       "    <tr>\n",
       "      <th>6567</th>\n",
       "      <td>Župčany</td>\n",
       "      <td>ZŠ s MŠ - Župčany</td>\n",
       "      <td>55.0</td>\n",
       "    </tr>\n",
       "    <tr>\n",
       "      <th>6568</th>\n",
       "      <td>Župčany</td>\n",
       "      <td>EP ZŠ s MŠ (MŠ) - Župčany</td>\n",
       "      <td>39.0</td>\n",
       "    </tr>\n",
       "    <tr>\n",
       "      <th>6569</th>\n",
       "      <td>Župkov</td>\n",
       "      <td>Materská škola pri ZŠ - Župkov</td>\n",
       "      <td>25.0</td>\n",
       "    </tr>\n",
       "    <tr>\n",
       "      <th>6570</th>\n",
       "      <td>Župkov</td>\n",
       "      <td>ZŠ s MŠ - Župkov</td>\n",
       "      <td>199.0</td>\n",
       "    </tr>\n",
       "  </tbody>\n",
       "</table>\n",
       "<p>6571 rows × 3 columns</p>\n",
       "</div>"
      ],
      "text/plain": [
       "          village                                    school  num_students\n",
       "0          Abovce                          ZŠ s MŠ - Abovce          34.0\n",
       "1          Abovce            Materská škola pri ZŠ - Abovce          14.0\n",
       "2         Abrahám  Materská škola - Abrahám, Hviezdoslavova          39.0\n",
       "3         Abrahám                     ZŠ - Abrahám, Školská         130.0\n",
       "4     Abrahámovce              Materská škola - Abrahámovce          10.0\n",
       "...           ...                                       ...           ...\n",
       "6566      Žlkovce                              ZŠ - Žlkovce          29.0\n",
       "6567      Župčany                         ZŠ s MŠ - Župčany          55.0\n",
       "6568      Župčany                 EP ZŠ s MŠ (MŠ) - Župčany          39.0\n",
       "6569       Župkov            Materská škola pri ZŠ - Župkov          25.0\n",
       "6570       Župkov                          ZŠ s MŠ - Župkov         199.0\n",
       "\n",
       "[6571 rows x 3 columns]"
      ]
     },
     "execution_count": 12,
     "metadata": {},
     "output_type": "execute_result"
    }
   ],
   "source": [
    "skoly"
   ]
  },
  {
   "cell_type": "code",
   "execution_count": 20,
   "metadata": {},
   "outputs": [],
   "source": [
    "obce = pd.read_csv(\"https://raw.githubusercontent.com/cedeerwe/korona-data-uderka/master/pairs.csv\", usecols=[1,3], names=[\"village\", \"district\"])"
   ]
  },
  {
   "cell_type": "code",
   "execution_count": 88,
   "metadata": {},
   "outputs": [],
   "source": [
    "obce_map = {obec[\"village\"]: obec[\"district\"] for i, obec in obce.iterrows()}"
   ]
  },
  {
   "cell_type": "code",
   "execution_count": 32,
   "metadata": {},
   "outputs": [
    {
     "data": {
      "text/plain": [
       "4208"
      ]
     },
     "execution_count": 32,
     "metadata": {},
     "output_type": "execute_result"
    }
   ],
   "source": [
    "len(obce)"
   ]
  },
  {
   "cell_type": "code",
   "execution_count": 27,
   "metadata": {},
   "outputs": [],
   "source": [
    "with open(\"../obyvatelia/obce_obyvatelia_fixed.json\", \"r\") as f:\n",
    "    obyvatelia = json.loads(f.read())\n",
    "obyvatelia = pd.DataFrame([{\"village\": obec[\"obec\"], \"population\": obec[\"pocet_obyvatelov_2013\"]} for obec in obyvatelia])"
   ]
  },
  {
   "cell_type": "code",
   "execution_count": 33,
   "metadata": {},
   "outputs": [
    {
     "data": {
      "text/plain": [
       "2927"
      ]
     },
     "execution_count": 33,
     "metadata": {},
     "output_type": "execute_result"
    }
   ],
   "source": [
    "len(obyvatelia)"
   ]
  },
  {
   "cell_type": "code",
   "execution_count": 39,
   "metadata": {},
   "outputs": [],
   "source": [
    "obyvatelia_with_district = obyvatelia.merge(obce, on=\"village\")"
   ]
  },
  {
   "cell_type": "code",
   "execution_count": 43,
   "metadata": {},
   "outputs": [],
   "source": [
    "filtered_obce = obyvatelia_with_district[obyvatelia_with_district['population'] >= 5000]"
   ]
  },
  {
   "cell_type": "code",
   "execution_count": 104,
   "metadata": {},
   "outputs": [],
   "source": [
    "obyvatelia_per_district = {\n",
    "    district: obyvatelia_with_district[\n",
    "        obyvatelia_with_district['district'] == district\n",
    "    ]['population'].sum() \n",
    "    for district in set(obce_map.values())}"
   ]
  },
  {
   "cell_type": "code",
   "execution_count": 126,
   "metadata": {},
   "outputs": [],
   "source": [
    "obce_so_skolami = set(skoly['village'])\n",
    "\n",
    "def skola_v_obci(obec):\n",
    "    if obec == \"Šaštín - Stráže\":\n",
    "        return \"Základná umelecká škola - Šaštín-Stráže, J.Hollého\"\n",
    "    elif obec in obce_so_skolami:\n",
    "        obec_df = skoly[skoly[\"village\"] == obec]\n",
    "        skoly_obec_studenti = obec_df[obec_df['num_students'].notnull()]\n",
    "        if len(skoly_obec_studenti) == 0:\n",
    "            return obec_df[\"school\"].values[0]\n",
    "        else:\n",
    "            return skoly_obec_studenti.iloc[skoly_obec_studenti['num_students'].argmax()]['school']\n",
    "    else:\n",
    "        if \"Bratislava\" in obec or \"Košice\" in obec:\n",
    "            return \"Nechávame na uvážení okresu\"\n",
    "        else:\n",
    "            print(\"Chyba, nemame skolu pre: \", obec)\n",
    "\n",
    "from collections import defaultdict      \n",
    "result = defaultdict(list)\n",
    "            \n",
    "for i, obec in filtered_obce.iterrows():\n",
    "    district = obce_map[obec[\"village\"]]\n",
    "    \n",
    "    result_for_obec = {\n",
    "        \"Obec\": obec[\"village\"],\n",
    "        \"Navrhované odberové miesto\": skola_v_obci(obec[\"village\"]),\n",
    "        \"Počet obyvateľov\": obec[\"population\"],\n",
    "        # \"Navrhovaný počet odberových jednotiek\": \"{:.2f}\".format(obec[\"population\"] / 5000)\n",
    "    }\n",
    "    result[district].append(result_for_obec)\n",
    "\n",
    "result2 = {}\n",
    "for district, district_obce in result.items():\n",
    "    pocet_odberovych_miest = obyvatelia_per_district[district] / 5000\n",
    "    real_pocet_odberovych_miest = 0\n",
    "    obyvatelia_v_odberovych = sum(obec['Počet obyvateľov'] for obec in district_obce)\n",
    "    odberove = []\n",
    "    for obec in district_obce:\n",
    "        odberovych = round(obec[\"Počet obyvateľov\"] / obyvatelia_v_odberovych * pocet_odberovych_miest)\n",
    "        real_pocet_odberovych_miest += odberovych\n",
    "        obec[\"Navrhovaný počet odberových jednotiek pre obec\"] = odberovych\n",
    "        odberove.append(obec)\n",
    "    result2[district] = {\n",
    "        \"Navrhovaný počet odberových miest pre okres\": real_pocet_odberovych_miest,\n",
    "        \"Odberové miesta\": odberove\n",
    "    }\n",
    "\n",
    "# to csv\n",
    "csv_rows = []\n",
    "for district, value in result2.items():\n",
    "    csv_rows.append({\n",
    "        \"Okres\": district,\n",
    "        \"Počet obyvateľov v okrese\": obyvatelia_per_district[district],\n",
    "        \"Navrhovaný počet odberových miest pre okres\": value[\"Navrhovaný počet odberových miest pre okres\"],\n",
    "    })\n",
    "    for miesto in value['Odberové miesta']:\n",
    "        csv_rows.append(miesto)\n",
    "\n",
    "pd.DataFrame(csv_rows).to_csv(\"odberove_miesta.csv\")       "
   ]
  },
  {
   "cell_type": "code",
   "execution_count": 122,
   "metadata": {},
   "outputs": [],
   "source": [
    "import yaml\n",
    "with open(\"odberove_miesta.txt\", \"w\") as f:\n",
    "    yaml.dump(result2, f)"
   ]
  },
  {
   "cell_type": "code",
   "execution_count": 78,
   "metadata": {},
   "outputs": [
    {
     "data": {
      "text/plain": [
       "set()"
      ]
     },
     "execution_count": 78,
     "metadata": {},
     "output_type": "execute_result"
    }
   ],
   "source": [
    "set(filtered_obce['village']) - set(result.keys())"
   ]
  },
  {
   "cell_type": "code",
   "execution_count": 81,
   "metadata": {},
   "outputs": [
    {
     "data": {
      "text/plain": [
       "144"
      ]
     },
     "execution_count": 81,
     "metadata": {},
     "output_type": "execute_result"
    }
   ],
   "source": [
    "len(set(filtered_obce['village']))\n"
   ]
  }
 ],
 "metadata": {
  "kernelspec": {
   "display_name": "Python 3",
   "language": "python",
   "name": "python3"
  },
  "language_info": {
   "codemirror_mode": {
    "name": "ipython",
    "version": 3
   },
   "file_extension": ".py",
   "mimetype": "text/x-python",
   "name": "python",
   "nbconvert_exporter": "python",
   "pygments_lexer": "ipython3",
   "version": "3.8.5"
  }
 },
 "nbformat": 4,
 "nbformat_minor": 4
}
