{
 "cells": [
  {
   "cell_type": "code",
   "execution_count": 1,
   "metadata": {},
   "outputs": [],
   "source": [
    "import pandas as pd\n",
    "import json"
   ]
  },
  {
   "cell_type": "code",
   "execution_count": 2,
   "metadata": {},
   "outputs": [],
   "source": [
    "skoly = pd.read_csv(\"schools_with_villages.csv\")[[\"village\", \"school\", \"num_students\"]]"
   ]
  },
  {
   "cell_type": "code",
   "execution_count": 6,
   "metadata": {},
   "outputs": [
    {
     "data": {
      "text/html": [
       "<div>\n",
       "<style scoped>\n",
       "    .dataframe tbody tr th:only-of-type {\n",
       "        vertical-align: middle;\n",
       "    }\n",
       "\n",
       "    .dataframe tbody tr th {\n",
       "        vertical-align: top;\n",
       "    }\n",
       "\n",
       "    .dataframe thead th {\n",
       "        text-align: right;\n",
       "    }\n",
       "</style>\n",
       "<table border=\"1\" class=\"dataframe\">\n",
       "  <thead>\n",
       "    <tr style=\"text-align: right;\">\n",
       "      <th></th>\n",
       "      <th>village</th>\n",
       "      <th>school</th>\n",
       "      <th>num_students</th>\n",
       "    </tr>\n",
       "  </thead>\n",
       "  <tbody>\n",
       "    <tr>\n",
       "      <th>0</th>\n",
       "      <td>Abovce</td>\n",
       "      <td>ZŠ s MŠ - Abovce</td>\n",
       "      <td>34.0</td>\n",
       "    </tr>\n",
       "    <tr>\n",
       "      <th>1</th>\n",
       "      <td>Abovce</td>\n",
       "      <td>Materská škola pri ZŠ - Abovce</td>\n",
       "      <td>14.0</td>\n",
       "    </tr>\n",
       "    <tr>\n",
       "      <th>2</th>\n",
       "      <td>Abrahám</td>\n",
       "      <td>Materská škola - Abrahám, Hviezdoslavova</td>\n",
       "      <td>39.0</td>\n",
       "    </tr>\n",
       "    <tr>\n",
       "      <th>3</th>\n",
       "      <td>Abrahám</td>\n",
       "      <td>ZŠ - Abrahám, Školská</td>\n",
       "      <td>130.0</td>\n",
       "    </tr>\n",
       "    <tr>\n",
       "      <th>4</th>\n",
       "      <td>Abrahámovce</td>\n",
       "      <td>Materská škola - Abrahámovce</td>\n",
       "      <td>10.0</td>\n",
       "    </tr>\n",
       "    <tr>\n",
       "      <th>...</th>\n",
       "      <td>...</td>\n",
       "      <td>...</td>\n",
       "      <td>...</td>\n",
       "    </tr>\n",
       "    <tr>\n",
       "      <th>6566</th>\n",
       "      <td>Žlkovce</td>\n",
       "      <td>ZŠ - Žlkovce</td>\n",
       "      <td>29.0</td>\n",
       "    </tr>\n",
       "    <tr>\n",
       "      <th>6567</th>\n",
       "      <td>Župčany</td>\n",
       "      <td>ZŠ s MŠ - Župčany</td>\n",
       "      <td>55.0</td>\n",
       "    </tr>\n",
       "    <tr>\n",
       "      <th>6568</th>\n",
       "      <td>Župčany</td>\n",
       "      <td>EP ZŠ s MŠ (MŠ) - Župčany</td>\n",
       "      <td>39.0</td>\n",
       "    </tr>\n",
       "    <tr>\n",
       "      <th>6569</th>\n",
       "      <td>Župkov</td>\n",
       "      <td>Materská škola pri ZŠ - Župkov</td>\n",
       "      <td>25.0</td>\n",
       "    </tr>\n",
       "    <tr>\n",
       "      <th>6570</th>\n",
       "      <td>Župkov</td>\n",
       "      <td>ZŠ s MŠ - Župkov</td>\n",
       "      <td>199.0</td>\n",
       "    </tr>\n",
       "  </tbody>\n",
       "</table>\n",
       "<p>6571 rows × 3 columns</p>\n",
       "</div>"
      ],
      "text/plain": [
       "          village                                    school  num_students\n",
       "0          Abovce                          ZŠ s MŠ - Abovce          34.0\n",
       "1          Abovce            Materská škola pri ZŠ - Abovce          14.0\n",
       "2         Abrahám  Materská škola - Abrahám, Hviezdoslavova          39.0\n",
       "3         Abrahám                     ZŠ - Abrahám, Školská         130.0\n",
       "4     Abrahámovce              Materská škola - Abrahámovce          10.0\n",
       "...           ...                                       ...           ...\n",
       "6566      Žlkovce                              ZŠ - Žlkovce          29.0\n",
       "6567      Župčany                         ZŠ s MŠ - Župčany          55.0\n",
       "6568      Župčany                 EP ZŠ s MŠ (MŠ) - Župčany          39.0\n",
       "6569       Župkov            Materská škola pri ZŠ - Župkov          25.0\n",
       "6570       Župkov                          ZŠ s MŠ - Župkov         199.0\n",
       "\n",
       "[6571 rows x 3 columns]"
      ]
     },
     "execution_count": 6,
     "metadata": {},
     "output_type": "execute_result"
    }
   ],
   "source": [
    "skoly"
   ]
  },
  {
   "cell_type": "code",
   "execution_count": 75,
   "metadata": {},
   "outputs": [],
   "source": [
    "import ssl\n",
    "ssl._create_default_https_context = ssl._create_unverified_context\n",
    "# obce = pd.read_csv(\"https://raw.githubusercontent.com/cedeerwe/korona-data-uderka/master/pairs.csv\", usecols=[1,3], names=[\"village\", \"district\"])"
   ]
  },
  {
   "cell_type": "code",
   "execution_count": 76,
   "metadata": {},
   "outputs": [],
   "source": [
    "# obce_map = {obec[\"village\"]: obec[\"district\"] for i, obec in obce.iterrows()}\n",
    "# obce_map[\"Senica\"]"
   ]
  },
  {
   "cell_type": "code",
   "execution_count": 77,
   "metadata": {},
   "outputs": [
    {
     "data": {
      "text/plain": [
       "4208"
      ]
     },
     "execution_count": 77,
     "metadata": {},
     "output_type": "execute_result"
    }
   ],
   "source": [
    "len(obce)"
   ]
  },
  {
   "cell_type": "code",
   "execution_count": 113,
   "metadata": {},
   "outputs": [
    {
     "data": {
      "text/plain": [
       "'Å\\xa0enkvice'"
      ]
     },
     "execution_count": 113,
     "metadata": {},
     "output_type": "execute_result"
    }
   ],
   "source": [
    "with open(\"../obyvatelia/obce_obyvatelia_fixed.json\", \"r\") as f:\n",
    "    obyvatelia = json.loads(f.read())\n",
    "obyvatelia = pd.DataFrame([{\"village\": obec[\"obec\"], \"population\": obec[\"pocet_obyvatelov_2013\"], \"district\": obec['okres']} for obec in obyvatelia])\n",
    "obyvatelia['district'] = obyvatelia['district'].apply(lambda val: str(val).format('utf8'))\n",
    "obyvatelia['village'] = obyvatelia['village'].apply(lambda val: str(val).format('utf8'))\n",
    "\n",
    "\n",
    "\"Å enkvice\".format('utf-8')\n"
   ]
  },
  {
   "cell_type": "code",
   "execution_count": 91,
   "metadata": {},
   "outputs": [
    {
     "data": {
      "text/plain": [
       "2927"
      ]
     },
     "execution_count": 91,
     "metadata": {},
     "output_type": "execute_result"
    }
   ],
   "source": [
    "len(obyvatelia)"
   ]
  },
  {
   "cell_type": "code",
   "execution_count": null,
   "metadata": {},
   "outputs": [],
   "source": []
  },
  {
   "cell_type": "code",
   "execution_count": 92,
   "metadata": {},
   "outputs": [],
   "source": [
    "obyvatelia_with_district = obyvatelia"
   ]
  },
  {
   "cell_type": "code",
   "execution_count": 127,
   "metadata": {},
   "outputs": [],
   "source": [
    "days = 3\n",
    "per_day = 500\n",
    "population_split_threshold = days * per_day\n",
    "filtered_obce = obyvatelia_with_district[obyvatelia_with_district['population'] >= population_split_threshold]\n"
   ]
  },
  {
   "cell_type": "code",
   "execution_count": 128,
   "metadata": {},
   "outputs": [],
   "source": [
    "obyvatelia_per_district = {\n",
    "    district: obyvatelia_with_district[\n",
    "        obyvatelia_with_district['district'] == district\n",
    "    ]['population'].sum() \n",
    "    for district in obyvatelia_with_district['district'].unique()}"
   ]
  },
  {
   "cell_type": "code",
   "execution_count": 133,
   "metadata": {},
   "outputs": [
    {
     "name": "stdout",
     "output_type": "stream",
     "text": [
      "Chyba, nemame skolu pre:  Plevník - Drienové\n",
      "Chyba, nemame skolu pre:  Nedožery - Brezany\n",
      "Chyba, nemame skolu pre:  Chocholná - Velčice\n",
      "Chyba, nemame skolu pre:  Melčice - Lieskové\n",
      "Chyba, nemame skolu pre:  Výčapy - Opatovce\n",
      "Chyba, nemame skolu pre:  Sliače\n",
      "Chyba, nemame skolu pre:  Lietavská Svinná - Babkov\n",
      "Chyba, nemame skolu pre:  Hodruša - Hámre\n",
      "Chyba, nemame skolu pre:  Lovčica - Trubín\n"
     ]
    }
   ],
   "source": [
    "obce_so_skolami = set(skoly['village'])\n",
    "tests_per_day_per_odberove_miesto = 500 # 0700 - 1900\n",
    "\n",
    "def sort_dict_by_keys(d):\n",
    "    return dict(sorted(d.items(), key=lambda x: x[0].lower()))\n",
    "\n",
    "population_split_threshold_const = 3\n",
    "def skola_v_obci(obec):\n",
    "    if \"Å¡\" in obec['village']:\n",
    "        obec['village'] = obec['village'].replace(\"Å¡\", \"š\")\n",
    "        obec['village'] = obec['village'].replace(\"Å¡\", \"š\")\n",
    "    if \"Å \" in obec['village']:\n",
    "        obec['village'] = obec['village'].replace('Å ', \"Š\")\n",
    "        obec['village'] = obec['village'].replace('Å ', \"Š\")\n",
    "        \n",
    "    if obec['population'] > population_split_threshold_const * population_split_threshold:\n",
    "        return \"Nechávame na uvážení obce\"\n",
    "            \n",
    "    if obec['village'] == \"Šaštín - Stráže\":\n",
    "        return \"Základná umelecká škola - Šaštín-Stráže, J.Hollého\"\n",
    "    elif obec['village'] == \"Cabaj - Čápor\":\n",
    "        return \"ZŠ - Cabaj-Čápor, časť Cabaj\"\n",
    "    elif obec['village'] in obce_so_skolami:\n",
    "        obec_df = skoly[skoly[\"village\"] == obec['village']]\n",
    "        skoly_obec_studenti = obec_df[obec_df['num_students'].notnull()]\n",
    "        if len(skoly_obec_studenti) == 0:\n",
    "            return obec_df[\"school\"].values[0]\n",
    "        else:\n",
    "            return skoly_obec_studenti.iloc[skoly_obec_studenti['num_students'].argmax()]['school']\n",
    "    else:\n",
    "        if (\"Bratislava\" in obec['village'] or \"Košice\" in obec['village']):\n",
    "            return \"Nechávame na uvážení okresu\"\n",
    "        else:\n",
    "            print(\"Chyba, nemame skolu pre: \", obec['village'])\n",
    "            return \"Nechávame na uvážení obce\"\n",
    "\n",
    "from collections import defaultdict      \n",
    "result = defaultdict(list)\n",
    "\n",
    "for i, obec in filtered_obce.iterrows():\n",
    "    district = obec[\"district\"]\n",
    "    \n",
    "    result_for_obec = {\n",
    "        \"Obec\": obec[\"village\"],\n",
    "        \"Navrhované odberové miesto\": skola_v_obci(obec),\n",
    "        \"Počet obyvateľov\": obec[\"population\"],\n",
    "        # \"Navrhovaný počet odberových jednotiek\": \"{:.2f}\".format(obec[\"population\"] / 5000)\n",
    "    }\n",
    "    result[district].append(result_for_obec)\n",
    "\n",
    "result2 = {}\n",
    "for district, district_obce in result.items():\n",
    "    pocet_odberovych_miest = obyvatelia_per_district[district] / population_split_threshold\n",
    "    real_pocet_odberovych_miest = 0\n",
    "    obyvatelia_v_odberovych = sum(obec['Počet obyvateľov'] for obec in district_obce)\n",
    "    odberove = []\n",
    "    for obec in district_obce:\n",
    "        odberovych = round(obec[\"Počet obyvateľov\"] / obyvatelia_v_odberovych * pocet_odberovych_miest)\n",
    "        real_pocet_odberovych_miest += odberovych\n",
    "        tests_per_day = odberovych * tests_per_day_per_odberove_miesto\n",
    "        obec[\"Navrhovaný počet odberových jednotiek pre obec\"] = odberovych\n",
    "        obec[\"Kapacita testov za deň pre obec\"] = tests_per_day\n",
    "        obec[\"Kapacita testov za týždeň pre obec\"] = 7 * tests_per_day\n",
    "        odberove.append(obec)\n",
    "    odberove_sorted = sorted(odberove, key=lambda odberove: str(odberove[\"Obec\"]), reverse=False)\n",
    "    result2[district] = {\n",
    "        \"Navrhovaný počet odberových miest pre okres\": real_pocet_odberovych_miest,\n",
    "        \"Odberové miesta\": odberove_sorted,\n",
    "    }\n",
    "\n",
    "\n",
    "# to csv\n",
    "csv_rows = []\n",
    "sorted_result = sort_dict_by_keys(result2)\n",
    "\n",
    "for district, value in sorted_result.items():\n",
    "    tests_per_day = value['Navrhovaný počet odberových miest pre okres'] * tests_per_day_per_odberove_miesto\n",
    "    csv_rows.append({\n",
    "        \"Okres\": district,\n",
    "        \"Počet obyvateľov v okrese\": obyvatelia_per_district[district],\n",
    "        \"Navrhovaný počet odberových miest pre okres\": value[\"Navrhovaný počet odberových miest pre okres\"],\n",
    "        \"Kapacita testov za deň pre okres\": tests_per_day,\n",
    "        \"Kapacita testov za týždeň pre okres\": tests_per_day * 7\n",
    "    })\n",
    "    \n",
    "    for miesto in value['Odberové miesta']:\n",
    "        csv_rows.append(miesto)\n",
    "\n",
    "\n",
    "# sorted_result\n",
    "pd.DataFrame(csv_rows).to_csv(\"odberove_miesta_{}_{}.csv\".format(population_split_threshold, tests_per_day_per_odberove_miesto))       "
   ]
  },
  {
   "cell_type": "code",
   "execution_count": 122,
   "metadata": {},
   "outputs": [],
   "source": [
    "import yaml\n",
    "with open(\"odberove_miesta.txt\", \"w\") as f:\n",
    "    yaml.dump(result2, f)"
   ]
  },
  {
   "cell_type": "code",
   "execution_count": 78,
   "metadata": {},
   "outputs": [
    {
     "data": {
      "text/plain": [
       "set()"
      ]
     },
     "execution_count": 78,
     "metadata": {},
     "output_type": "execute_result"
    }
   ],
   "source": [
    "set(filtered_obce['village']) - set(result.keys())"
   ]
  },
  {
   "cell_type": "code",
   "execution_count": 81,
   "metadata": {},
   "outputs": [
    {
     "data": {
      "text/plain": [
       "144"
      ]
     },
     "execution_count": 81,
     "metadata": {},
     "output_type": "execute_result"
    }
   ],
   "source": [
    "len(set(filtered_obce['village']))\n"
   ]
  }
 ],
 "metadata": {
  "kernelspec": {
   "display_name": "Python 3.7.3 64-bit",
   "language": "python",
   "name": "python37364bitbcfd201bbee5408298ba8dd9845ce6d9"
  },
  "language_info": {
   "codemirror_mode": {
    "name": "ipython",
    "version": 3
   },
   "file_extension": ".py",
   "mimetype": "text/x-python",
   "name": "python",
   "nbconvert_exporter": "python",
   "pygments_lexer": "ipython3",
   "version": "3.7.3"
  }
 },
 "nbformat": 4,
 "nbformat_minor": 4
}
